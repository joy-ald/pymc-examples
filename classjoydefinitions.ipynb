{
  "nbformat": 4,
  "nbformat_minor": 0,
  "metadata": {
    "colab": {
      "provenance": [],
      "authorship_tag": "ABX9TyODE5MZcctN+CydX/MDvkxM",
      "include_colab_link": true
    },
    "kernelspec": {
      "name": "python3",
      "display_name": "Python 3"
    },
    "language_info": {
      "name": "python"
    }
  },
  "cells": [
    {
      "cell_type": "markdown",
      "metadata": {
        "id": "view-in-github",
        "colab_type": "text"
      },
      "source": [
        "<a href=\"https://colab.research.google.com/github/joy-ald/pymc-examples/blob/main/classjoydefinitions.ipynb\" target=\"_parent\"><img src=\"https://colab.research.google.com/assets/colab-badge.svg\" alt=\"Open In Colab\"/></a>"
      ]
    },
    {
      "cell_type": "code",
      "execution_count": null,
      "metadata": {
        "colab": {
          "base_uri": "https://localhost:8080/",
          "height": 315
        },
        "id": "7pvKDBDh1ZJq",
        "outputId": "cfaa7cb3-3add-46de-80ba-1f09edf9589e"
      },
      "outputs": [
        {
          "output_type": "stream",
          "name": "stdout",
          "text": [
            "Raj 30\n"
          ]
        },
        {
          "output_type": "error",
          "ename": "ValueError",
          "evalue": "Age must be between 20 and 80",
          "traceback": [
            "\u001b[0;31m---------------------------------------------------------------------------\u001b[0m",
            "\u001b[0;31mValueError\u001b[0m                                Traceback (most recent call last)",
            "\u001b[0;32m<ipython-input-41-95d7864ff699>\u001b[0m in \u001b[0;36m<cell line: 47>\u001b[0;34m()\u001b[0m\n\u001b[1;32m     45\u001b[0m   \u001b[0mp\u001b[0m\u001b[0;34m.\u001b[0m\u001b[0mdisplay\u001b[0m\u001b[0;34m(\u001b[0m\u001b[0;34m)\u001b[0m\u001b[0;34m\u001b[0m\u001b[0;34m\u001b[0m\u001b[0m\n\u001b[1;32m     46\u001b[0m \u001b[0;34m\u001b[0m\u001b[0m\n\u001b[0;32m---> 47\u001b[0;31m \u001b[0mp\u001b[0m\u001b[0;34m.\u001b[0m\u001b[0mset_age\u001b[0m\u001b[0;34m(\u001b[0m\u001b[0;36m100\u001b[0m\u001b[0;34m)\u001b[0m\u001b[0;34m\u001b[0m\u001b[0;34m\u001b[0m\u001b[0m\n\u001b[0m",
            "\u001b[0;32m<ipython-input-41-95d7864ff699>\u001b[0m in \u001b[0;36mset_age\u001b[0;34m(self, new_age)\u001b[0m\n\u001b[1;32m     35\u001b[0m       \u001b[0mself\u001b[0m\u001b[0;34m.\u001b[0m\u001b[0m_age\u001b[0m \u001b[0;34m=\u001b[0m \u001b[0mnew_age\u001b[0m\u001b[0;34m\u001b[0m\u001b[0;34m\u001b[0m\u001b[0m\n\u001b[1;32m     36\u001b[0m     \u001b[0;32melse\u001b[0m\u001b[0;34m:\u001b[0m\u001b[0;34m\u001b[0m\u001b[0;34m\u001b[0m\u001b[0m\n\u001b[0;32m---> 37\u001b[0;31m       \u001b[0;32mraise\u001b[0m \u001b[0mValueError\u001b[0m\u001b[0;34m(\u001b[0m\u001b[0;34m\"Age must be between 20 and 80\"\u001b[0m\u001b[0;34m)\u001b[0m\u001b[0;34m\u001b[0m\u001b[0;34m\u001b[0m\u001b[0m\n\u001b[0m\u001b[1;32m     38\u001b[0m \u001b[0;34m\u001b[0m\u001b[0m\n\u001b[1;32m     39\u001b[0m   \u001b[0;32mdef\u001b[0m \u001b[0mget_age\u001b[0m\u001b[0;34m(\u001b[0m\u001b[0mself\u001b[0m\u001b[0;34m)\u001b[0m\u001b[0;34m:\u001b[0m\u001b[0;34m\u001b[0m\u001b[0;34m\u001b[0m\u001b[0m\n",
            "\u001b[0;31mValueError\u001b[0m: Age must be between 20 and 80"
          ]
        }
      ],
      "source": [
        "class Product:\n",
        "\n",
        "  ## init function\n",
        "  def __init__(self,x,y):\n",
        "    self._x = x\n",
        "    self._y = y\n",
        "\n",
        "  def display(self):\n",
        "    print(self._x,self._y)\n",
        "\n",
        "  ## @property is a decorator, which helps to access a method defined within it like a variable\n",
        "  ## however the variable cannot be modified\n",
        "\n",
        "  @property\n",
        "  def value(self):\n",
        "    return self._x\n",
        "\n",
        "  ## value.setter is a method whereby we can assign value to the variable which is already defined under the @property decorator method\n",
        "  ## in the previous step\n",
        "\n",
        "  @value.setter\n",
        "  def value(self,val):\n",
        "    self._x = val\n",
        "\n",
        "\n",
        "  @property\n",
        "  def y(self):\n",
        "   return self._y\n",
        "\n",
        "  @y.setter\n",
        "  def y(self,val):\n",
        "    self._y = val\n",
        "\n",
        "  def set_age(self,new_age):\n",
        "    if 20 < new_age < 80:\n",
        "      self._age = new_age\n",
        "    else:\n",
        "      raise ValueError(\"Age must be between 20 and 80\")\n",
        "\n",
        "  def get_age(self):\n",
        "    return self._age\n",
        "\n",
        "\n",
        "if __name__=='__main__':\n",
        "  p = Product('Raj',30)\n",
        "  p.display()\n",
        "\n",
        "p.set_age(100)\n"
      ]
    },
    {
      "cell_type": "code",
      "source": [],
      "metadata": {
        "id": "oVaFC9__1rtk"
      },
      "execution_count": null,
      "outputs": []
    },
    {
      "cell_type": "code",
      "source": [
        "p.y"
      ],
      "metadata": {
        "colab": {
          "base_uri": "https://localhost:8080/"
        },
        "id": "CEss0kNa1x-h",
        "outputId": "fb3f0c4e-390c-4662-8ef7-3fe6b03200fb"
      },
      "execution_count": null,
      "outputs": [
        {
          "output_type": "execute_result",
          "data": {
            "text/plain": [
              "30"
            ]
          },
          "metadata": {},
          "execution_count": 37
        }
      ]
    },
    {
      "cell_type": "code",
      "source": [],
      "metadata": {
        "id": "bgimaalreA6e"
      },
      "execution_count": null,
      "outputs": []
    }
  ]
}